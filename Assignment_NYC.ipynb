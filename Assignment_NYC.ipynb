{
  "nbformat": 4,
  "nbformat_minor": 0,
  "metadata": {
    "colab": {
      "provenance": []
    },
    "kernelspec": {
      "name": "python3",
      "display_name": "Python 3"
    },
    "language_info": {
      "name": "python"
    }
  },
  "cells": [
    {
      "cell_type": "code",
      "execution_count": null,
      "metadata": {
        "colab": {
          "base_uri": "https://localhost:8080/"
        },
        "id": "89YE1J3qVtG9",
        "outputId": "934c19b8-457c-4470-f10c-e1dba9df8515"
      },
      "outputs": [
        {
          "output_type": "stream",
          "name": "stdout",
          "text": [
            "Drive already mounted at /drive; to attempt to forcibly remount, call drive.mount(\"/drive\", force_remount=True).\n"
          ]
        }
      ],
      "source": [
        "import datetime\n",
        "import pandas as pd\n",
        "import numpy as np\n",
        "import json\n",
        "import matplotlib.pyplot as plt\n",
        "import seaborn as sns\n",
        "import folium\n",
        "from folium import plugins\n",
        "from geopy.distance import geodesic\n",
        "from geopy.distance import distance\n",
        "\n",
        "from sklearn.linear_model import LinearRegression\n",
        "from scipy.optimize import minimize\n",
        "import warnings\n",
        "warnings.filterwarnings(\"ignore\")\n",
        "\n",
        "# Mount drive so that we can access google drive files\n",
        "from google.colab import drive\n",
        "drive.mount('/drive')\n",
        "\n",
        "#cab_data = pd.read_parquet('/drive/My Drive/Colab Notebooks/MMA 830 - Pricing Analytics/yellow_tripdata_2022-06.parquet')\n",
        "#july = pd.read_parquet('/drive/My Drive/Colab Notebooks/MMA 830 - Pricing Analytics/yellow_tripdata_2022-07.parquet')\n",
        "#cab_data = pd.read_parquet('/drive/My Drive/Colab Notebooks/MMA 830 - Pricing Analytics/yellow_tripdata_2022-08.parquet')\n",
        "cab_data = pd.read_parquet('/drive/My Drive/Colab Notebooks/MMA 830 - Pricing Analytics/yellow_tripdata_2021-12.parquet')"
      ]
    },
    {
      "cell_type": "code",
      "source": [
        "#cab_data = pd.concat([june,july,august],axis=0)\n",
        "cab_data.info()"
      ],
      "metadata": {
        "colab": {
          "base_uri": "https://localhost:8080/"
        },
        "id": "zOyNKbA0fkQF",
        "outputId": "d237519b-99d4-4d44-e542-be0d312389ff"
      },
      "execution_count": null,
      "outputs": [
        {
          "output_type": "stream",
          "name": "stdout",
          "text": [
            "<class 'pandas.core.frame.DataFrame'>\n",
            "RangeIndex: 3214369 entries, 0 to 3214368\n",
            "Data columns (total 19 columns):\n",
            " #   Column                 Dtype         \n",
            "---  ------                 -----         \n",
            " 0   VendorID               int64         \n",
            " 1   tpep_pickup_datetime   datetime64[ns]\n",
            " 2   tpep_dropoff_datetime  datetime64[ns]\n",
            " 3   passenger_count        float64       \n",
            " 4   trip_distance          float64       \n",
            " 5   RatecodeID             float64       \n",
            " 6   store_and_fwd_flag     object        \n",
            " 7   PULocationID           int64         \n",
            " 8   DOLocationID           int64         \n",
            " 9   payment_type           int64         \n",
            " 10  fare_amount            float64       \n",
            " 11  extra                  float64       \n",
            " 12  mta_tax                float64       \n",
            " 13  tip_amount             float64       \n",
            " 14  tolls_amount           float64       \n",
            " 15  improvement_surcharge  float64       \n",
            " 16  total_amount           float64       \n",
            " 17  congestion_surcharge   float64       \n",
            " 18  airport_fee            float64       \n",
            "dtypes: datetime64[ns](2), float64(12), int64(4), object(1)\n",
            "memory usage: 466.0+ MB\n"
          ]
        }
      ]
    },
    {
      "cell_type": "code",
      "source": [
        "print(cab_data.isnull().sum())\n",
        "cab_data = cab_data.dropna()"
      ],
      "metadata": {
        "colab": {
          "base_uri": "https://localhost:8080/"
        },
        "id": "V9ZuhHjEW_rj",
        "outputId": "704278be-c41c-46e1-b96f-69885b995288"
      },
      "execution_count": null,
      "outputs": [
        {
          "output_type": "stream",
          "name": "stdout",
          "text": [
            "VendorID                      0\n",
            "tpep_pickup_datetime          0\n",
            "tpep_dropoff_datetime         0\n",
            "passenger_count          102371\n",
            "trip_distance                 0\n",
            "RatecodeID               102371\n",
            "store_and_fwd_flag       102371\n",
            "PULocationID                  0\n",
            "DOLocationID                  0\n",
            "payment_type                  0\n",
            "fare_amount                   0\n",
            "extra                         0\n",
            "mta_tax                       0\n",
            "tip_amount                    0\n",
            "tolls_amount                  0\n",
            "improvement_surcharge         0\n",
            "total_amount                  0\n",
            "congestion_surcharge     102371\n",
            "airport_fee              102371\n",
            "dtype: int64\n"
          ]
        }
      ]
    },
    {
      "cell_type": "code",
      "source": [
        "cab_data"
      ],
      "metadata": {
        "id": "JjDqa3Rd6xcR"
      },
      "execution_count": null,
      "outputs": []
    },
    {
      "cell_type": "code",
      "source": [
        "# Identify if date falls on weekend or weekday\n",
        "cab_data['date'] = cab_data['tpep_pickup_datetime'].astype(str).str[:-9].str.strip()\n",
        "cab_data['year'] = cab_data['date'].str[:4]\n",
        "cab_data['month'] = cab_data['date'].str[5:7]\n",
        "cab_data['day'] = cab_data['date'].str[8:10]\n",
        "cab_data['day_code'] = pd.to_datetime(cab_data['date'], format='%Y-%m-%d').dt.dayofweek\n",
        "cab_data['day_type'] = np.where(cab_data['day_code'].isin([5,6]),'weekend', \"weekday\") # <-- this uses those numbers to group each day\n",
        "\n",
        "# Identify if datetime is during the day or evening\n",
        "cab_data['time'] = cab_data['tpep_pickup_datetime'].astype(str).str[-9:].str.strip()\n",
        "cab_data['hour'] = cab_data['time'].str[:2].astype(int)\n",
        "cab_data['time_type'] = np.where((cab_data['hour'] >= 8) & (cab_data['hour'] < 17),'Day', \"Evening\")\n",
        "\n",
        "# Get length of cab ride\n",
        "cab_data['length_minutes'] = (cab_data['tpep_dropoff_datetime'] - cab_data['tpep_pickup_datetime']).dt.total_seconds()/60\n",
        "\n",
        "# Create combined segment column to get unique segments\n",
        "cab_data['segment'] = cab_data['day_type']+\"_\"+cab_data['time_type']"
      ],
      "metadata": {
        "id": "UFhkXN-aZfUs"
      },
      "execution_count": null,
      "outputs": []
    },
    {
      "cell_type": "code",
      "source": [
        "cab_data['cost_per_min'] = cab_data['fare_amount']/cab_data['length_minutes']\n",
        "cab_data['cost_per_dist'] = cab_data['trip_distance']/cab_data['length_minutes']"
      ],
      "metadata": {
        "id": "zUiXSirpd7xz"
      },
      "execution_count": null,
      "outputs": []
    },
    {
      "cell_type": "code",
      "source": [
        "cab_data.isna().sum()\n",
        "cab_data = cab_data.dropna()"
      ],
      "metadata": {
        "id": "k4ANirzffqBD"
      },
      "execution_count": null,
      "outputs": []
    },
    {
      "cell_type": "code",
      "source": [
        "cab_data = cab_data[(cab_data['trip_distance'] > 0) & (cab_data['trip_distance'] < 10)]\n",
        "cab_data = cab_data[cab_data['length_minutes'] > 0]"
      ],
      "metadata": {
        "id": "8Qc5Eq0UkrtT"
      },
      "execution_count": null,
      "outputs": []
    },
    {
      "cell_type": "code",
      "source": [
        "# Get average price per mile or km for each day and segment\n",
        "avg_prices = cab_data.groupby(['segment','date'])['trip_distance'].mean().reset_index()\n",
        "\n",
        "# Get number of trips for each day and segment\n",
        "demands = cab_data.groupby(['segment','date']).size().reset_index()\n",
        "\n",
        "data_to_model = avg_prices.merge(demands, how='left', left_on=['segment','date'], right_on=['segment','date'])\n",
        "\n",
        "data_to_model = data_to_model.rename(columns={\"segment\":\"segment\",\n",
        "                                              \"date\":\"date\",\n",
        "                                              \"trip_distance\": \"avg_distance\",\n",
        "                                              0:\"demand\"})\n",
        "\n",
        "#data_to_model['revenue_per_min'] = data_to_model['mean_cost_per_min'] * data_to_model['demand']\n",
        "data_to_model = data_to_model.sort_values(by=['segment'],ascending=[True])"
      ],
      "metadata": {
        "id": "ScxZpuesdgd-"
      },
      "execution_count": null,
      "outputs": []
    },
    {
      "cell_type": "code",
      "source": [
        "data_to_model"
      ],
      "metadata": {
        "id": "5_eyqaWWfVuD",
        "colab": {
          "base_uri": "https://localhost:8080/"
        },
        "outputId": "ebce5a22-6ce3-4abe-ab68-5eaf47c9e445"
      },
      "execution_count": null,
      "outputs": [
        {
          "output_type": "execute_result",
          "data": {
            "text/plain": [
              "            segment        date  avg_distance  demand\n",
              "0       weekday_Day  2008-12-31      0.840000       1\n",
              "27      weekday_Day  2022-01-17      0.686667       3\n",
              "26      weekday_Day  2022-01-03      1.446667       3\n",
              "25      weekday_Day  2021-12-31      2.335595   30703\n",
              "24      weekday_Day  2021-12-30      2.301152   37258\n",
              "..              ...         ...           ...     ...\n",
              "71  weekend_Evening  2021-12-18      2.397879   49722\n",
              "72  weekend_Evening  2021-12-19      2.498899   36492\n",
              "73  weekend_Evening  2021-12-25      2.562200   17225\n",
              "74  weekend_Evening  2021-12-26      2.628917   20671\n",
              "76  weekend_Evening  2022-01-22      1.673333       3\n",
              "\n",
              "[77 rows x 4 columns]"
            ],
            "text/html": [
              "\n",
              "  <div id=\"df-9ad1039e-2844-4682-9a5f-cf8c5b6fe407\">\n",
              "    <div class=\"colab-df-container\">\n",
              "      <div>\n",
              "<style scoped>\n",
              "    .dataframe tbody tr th:only-of-type {\n",
              "        vertical-align: middle;\n",
              "    }\n",
              "\n",
              "    .dataframe tbody tr th {\n",
              "        vertical-align: top;\n",
              "    }\n",
              "\n",
              "    .dataframe thead th {\n",
              "        text-align: right;\n",
              "    }\n",
              "</style>\n",
              "<table border=\"1\" class=\"dataframe\">\n",
              "  <thead>\n",
              "    <tr style=\"text-align: right;\">\n",
              "      <th></th>\n",
              "      <th>segment</th>\n",
              "      <th>date</th>\n",
              "      <th>avg_distance</th>\n",
              "      <th>demand</th>\n",
              "    </tr>\n",
              "  </thead>\n",
              "  <tbody>\n",
              "    <tr>\n",
              "      <th>0</th>\n",
              "      <td>weekday_Day</td>\n",
              "      <td>2008-12-31</td>\n",
              "      <td>0.840000</td>\n",
              "      <td>1</td>\n",
              "    </tr>\n",
              "    <tr>\n",
              "      <th>27</th>\n",
              "      <td>weekday_Day</td>\n",
              "      <td>2022-01-17</td>\n",
              "      <td>0.686667</td>\n",
              "      <td>3</td>\n",
              "    </tr>\n",
              "    <tr>\n",
              "      <th>26</th>\n",
              "      <td>weekday_Day</td>\n",
              "      <td>2022-01-03</td>\n",
              "      <td>1.446667</td>\n",
              "      <td>3</td>\n",
              "    </tr>\n",
              "    <tr>\n",
              "      <th>25</th>\n",
              "      <td>weekday_Day</td>\n",
              "      <td>2021-12-31</td>\n",
              "      <td>2.335595</td>\n",
              "      <td>30703</td>\n",
              "    </tr>\n",
              "    <tr>\n",
              "      <th>24</th>\n",
              "      <td>weekday_Day</td>\n",
              "      <td>2021-12-30</td>\n",
              "      <td>2.301152</td>\n",
              "      <td>37258</td>\n",
              "    </tr>\n",
              "    <tr>\n",
              "      <th>...</th>\n",
              "      <td>...</td>\n",
              "      <td>...</td>\n",
              "      <td>...</td>\n",
              "      <td>...</td>\n",
              "    </tr>\n",
              "    <tr>\n",
              "      <th>71</th>\n",
              "      <td>weekend_Evening</td>\n",
              "      <td>2021-12-18</td>\n",
              "      <td>2.397879</td>\n",
              "      <td>49722</td>\n",
              "    </tr>\n",
              "    <tr>\n",
              "      <th>72</th>\n",
              "      <td>weekend_Evening</td>\n",
              "      <td>2021-12-19</td>\n",
              "      <td>2.498899</td>\n",
              "      <td>36492</td>\n",
              "    </tr>\n",
              "    <tr>\n",
              "      <th>73</th>\n",
              "      <td>weekend_Evening</td>\n",
              "      <td>2021-12-25</td>\n",
              "      <td>2.562200</td>\n",
              "      <td>17225</td>\n",
              "    </tr>\n",
              "    <tr>\n",
              "      <th>74</th>\n",
              "      <td>weekend_Evening</td>\n",
              "      <td>2021-12-26</td>\n",
              "      <td>2.628917</td>\n",
              "      <td>20671</td>\n",
              "    </tr>\n",
              "    <tr>\n",
              "      <th>76</th>\n",
              "      <td>weekend_Evening</td>\n",
              "      <td>2022-01-22</td>\n",
              "      <td>1.673333</td>\n",
              "      <td>3</td>\n",
              "    </tr>\n",
              "  </tbody>\n",
              "</table>\n",
              "<p>77 rows × 4 columns</p>\n",
              "</div>\n",
              "      <button class=\"colab-df-convert\" onclick=\"convertToInteractive('df-9ad1039e-2844-4682-9a5f-cf8c5b6fe407')\"\n",
              "              title=\"Convert this dataframe to an interactive table.\"\n",
              "              style=\"display:none;\">\n",
              "        \n",
              "  <svg xmlns=\"http://www.w3.org/2000/svg\" height=\"24px\"viewBox=\"0 0 24 24\"\n",
              "       width=\"24px\">\n",
              "    <path d=\"M0 0h24v24H0V0z\" fill=\"none\"/>\n",
              "    <path d=\"M18.56 5.44l.94 2.06.94-2.06 2.06-.94-2.06-.94-.94-2.06-.94 2.06-2.06.94zm-11 1L8.5 8.5l.94-2.06 2.06-.94-2.06-.94L8.5 2.5l-.94 2.06-2.06.94zm10 10l.94 2.06.94-2.06 2.06-.94-2.06-.94-.94-2.06-.94 2.06-2.06.94z\"/><path d=\"M17.41 7.96l-1.37-1.37c-.4-.4-.92-.59-1.43-.59-.52 0-1.04.2-1.43.59L10.3 9.45l-7.72 7.72c-.78.78-.78 2.05 0 2.83L4 21.41c.39.39.9.59 1.41.59.51 0 1.02-.2 1.41-.59l7.78-7.78 2.81-2.81c.8-.78.8-2.07 0-2.86zM5.41 20L4 18.59l7.72-7.72 1.47 1.35L5.41 20z\"/>\n",
              "  </svg>\n",
              "      </button>\n",
              "      \n",
              "  <style>\n",
              "    .colab-df-container {\n",
              "      display:flex;\n",
              "      flex-wrap:wrap;\n",
              "      gap: 12px;\n",
              "    }\n",
              "\n",
              "    .colab-df-convert {\n",
              "      background-color: #E8F0FE;\n",
              "      border: none;\n",
              "      border-radius: 50%;\n",
              "      cursor: pointer;\n",
              "      display: none;\n",
              "      fill: #1967D2;\n",
              "      height: 32px;\n",
              "      padding: 0 0 0 0;\n",
              "      width: 32px;\n",
              "    }\n",
              "\n",
              "    .colab-df-convert:hover {\n",
              "      background-color: #E2EBFA;\n",
              "      box-shadow: 0px 1px 2px rgba(60, 64, 67, 0.3), 0px 1px 3px 1px rgba(60, 64, 67, 0.15);\n",
              "      fill: #174EA6;\n",
              "    }\n",
              "\n",
              "    [theme=dark] .colab-df-convert {\n",
              "      background-color: #3B4455;\n",
              "      fill: #D2E3FC;\n",
              "    }\n",
              "\n",
              "    [theme=dark] .colab-df-convert:hover {\n",
              "      background-color: #434B5C;\n",
              "      box-shadow: 0px 1px 3px 1px rgba(0, 0, 0, 0.15);\n",
              "      filter: drop-shadow(0px 1px 2px rgba(0, 0, 0, 0.3));\n",
              "      fill: #FFFFFF;\n",
              "    }\n",
              "  </style>\n",
              "\n",
              "      <script>\n",
              "        const buttonEl =\n",
              "          document.querySelector('#df-9ad1039e-2844-4682-9a5f-cf8c5b6fe407 button.colab-df-convert');\n",
              "        buttonEl.style.display =\n",
              "          google.colab.kernel.accessAllowed ? 'block' : 'none';\n",
              "\n",
              "        async function convertToInteractive(key) {\n",
              "          const element = document.querySelector('#df-9ad1039e-2844-4682-9a5f-cf8c5b6fe407');\n",
              "          const dataTable =\n",
              "            await google.colab.kernel.invokeFunction('convertToInteractive',\n",
              "                                                     [key], {});\n",
              "          if (!dataTable) return;\n",
              "\n",
              "          const docLinkHtml = 'Like what you see? Visit the ' +\n",
              "            '<a target=\"_blank\" href=https://colab.research.google.com/notebooks/data_table.ipynb>data table notebook</a>'\n",
              "            + ' to learn more about interactive tables.';\n",
              "          element.innerHTML = '';\n",
              "          dataTable['output_type'] = 'display_data';\n",
              "          await google.colab.output.renderOutput(dataTable, element);\n",
              "          const docLink = document.createElement('div');\n",
              "          docLink.innerHTML = docLinkHtml;\n",
              "          element.appendChild(docLink);\n",
              "        }\n",
              "      </script>\n",
              "    </div>\n",
              "  </div>\n",
              "  "
            ]
          },
          "metadata": {},
          "execution_count": 32
        }
      ]
    },
    {
      "cell_type": "code",
      "source": [
        "# get unique segments\n",
        "segments = data_to_model['segment'].unique()\n",
        "\n",
        "# for each segment...\n",
        "for segment in segments:\n",
        "\n",
        "  # filter to get only this segment's data\n",
        "  segment_data = data_to_model[data_to_model['segment'] == segment]\n",
        "\n",
        "  # Separate prices and demand\n",
        "  x_prices = segment_data[['mean_cost_per_min']]\n",
        "  y_demands = segment_data[['demand']]\n",
        "\n",
        "  # fit linear model\n",
        "  segment_model = LinearRegression().fit(x_prices, y_demands)\n",
        "  model_coef = segment_model.coef_[0][0]\n",
        "  model_intercept = segment_model.intercept_[0]\n",
        "  model_r2 = segment_model.score(x_prices, y_demands)\n",
        "\n",
        "  print('------------------------------------')\n",
        "  print('processing segment...',segment)\n",
        "  print('------------------')\n",
        "  print(\"Coefficient:\",model_coef)\n",
        "  print(\"Intercept:\",model_intercept)\n",
        "  print(\"R-squared:\",model_r2)\n",
        "\n",
        "  # Use coefficient and intercept to predict demand and calculate predicted revenue\n",
        "  segment_data['demand_prediction'] = model_intercept + model_coef * segment_data['mean_cost_per_min']\n",
        "  segment_data['revenue_prediction'] = segment_data[\"mean_cost_per_min\"] * segment_data[\"demand_prediction\"]\n",
        "\n",
        "  actual_revenue = round(segment_data['revenue_per_min'].sum(),2)\n",
        "  predict_revenue = round(segment_data['revenue_prediction'].sum(),2)\n",
        "  change_in_revenue = predict_revenue - actual_revenue\n",
        "  \n",
        "  print('\\n')\n",
        "  print(\"Actual Revenue per Mile: $\"+str(actual_revenue))\n",
        "  print(\"Predicted Revenue per Mile: $\"+str(predict_revenue))\n",
        "  print(\"Change in Revenue: $\"+str(change_in_revenue))\n",
        "  print('\\n')\n",
        "\n",
        "  def custom_solver():\n",
        "    output = pd.DataFrame()\n",
        "    for price in np.arange(0.00,5.00,0.01):\n",
        "      segment_data['solver_demand_pred'] = model_intercept + model_coef * price\n",
        "      segment_data['solver_revenue_pred'] = price * segment_data[\"solver_demand_pred\"]\n",
        "      revenue = round(segment_data['solver_revenue_pred'].sum(),2)\n",
        "\n",
        "      results = pd.DataFrame({\"Price\":[price],\"Revenue\":[revenue]})\n",
        "\n",
        "      output = pd.concat([output, results], axis=0)\n",
        "\n",
        "    output = output.sort_values(by=['Revenue'],ascending=False)\n",
        "    optimal_price = output['Price'].iat[0]\n",
        "    revenue_wOptimalPrice = output['Revenue'].iat[0]\n",
        "\n",
        "    return optimal_price, revenue_wOptimalPrice\n",
        "\n",
        "  optimal_price, revenue_using_optimalPrice = custom_solver()\n",
        "  optimal_price = round(optimal_price,2)\n",
        "  revenue_using_optimalPrice = round(revenue_using_optimalPrice,2)\n",
        "  revenue_change_using_optimal = revenue_using_optimalPrice - actual_revenue\n",
        "\n",
        "  print(\"Optimal price for this segment: $\"+str(optimal_price))\n",
        "  print(\"Revenue using optimal price for this segment: $\"+str(revenue_using_optimalPrice))\n",
        "  print(\"Change in revenue (using optimal vs not using optimal): $\"+str(revenue_change_using_optimal))\n",
        "  print(\"\\n\")"
      ],
      "metadata": {
        "id": "oy2txbmwl6d4"
      },
      "execution_count": null,
      "outputs": []
    }
  ]
}